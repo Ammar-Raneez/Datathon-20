{
 "cells": [
  {
   "cell_type": "code",
   "execution_count": 1,
   "metadata": {},
   "outputs": [],
   "source": [
    "import csv\n",
    "import numpy as np\n",
    "from tensorflow.keras.models import load_model\n",
    "import tensorflow as tf\n",
    "import math"
   ]
  },
  {
   "cell_type": "raw",
   "metadata": {},
   "source": [
    "FOR CENTRAL PROVINCE\n",
    "window_size = 5\n",
    "split_time = 15\n",
    "\n",
    "FOR EASTERN PROVINCE\n",
    "window_size = 5\n",
    "split_time = 7\n",
    "\n",
    "FOR NORTHCENTRAL PROVINCE\n",
    "window_size = 5\n",
    "split_time = 40\n",
    "\n",
    "FOR NORTHWESTERN PROVINCE\n",
    "window_size = 5\n",
    "split_time = 33\n",
    "\n",
    "FOR NOTHERN PROVINCE\n",
    "window_size = 5\n",
    "split_time = 10\n",
    "\n",
    "FOR SABARAGAMUWA PROVINCE\n",
    "window_size = 5\n",
    "split_time = 13\n",
    "\n",
    "FOR SOUTHERN PROVINCE\n",
    "window_size = 5\n",
    "split_time = 13\n",
    "\n",
    "FOR UVA PROVINCE\n",
    "window_size = 5\n",
    "split_time = 9\n",
    "\n",
    "FOR WESTERN PROVINCE\n",
    "window_size = 20\n",
    "split_time = 110"
   ]
  },
  {
   "cell_type": "code",
   "execution_count": 3,
   "metadata": {
    "scrolled": true
   },
   "outputs": [
    {
     "name": "stdout",
     "output_type": "stream",
     "text": [
      "4 cases are predicted for 1 days in future in the western Province\n"
     ]
    }
   ],
   "source": [
    "#general model\n",
    "provinceChoice = 'western'\n",
    "days_in_future = 1\n",
    "time_step = []\n",
    "cases = []\n",
    "model = load_model(f'../models/province/lstm-model-{provinceChoice}-prov.h5')\n",
    "\n",
    "provinces = {'central': [5, 15], 'eastern': [5, 7], 'northcentral': [5, 40], 'northwestern': [5, 33], 'northern': [5, 10],\n",
    "             'sabaragamuwa': [5, 13], 'southern': [5, 13], 'uva': [5, 9], 'western': [20, 110]\n",
    "            }\n",
    "\n",
    "window_size = provinces[provinceChoice][0]\n",
    "split_time = provinces[provinceChoice][1]\n",
    "\n",
    "\n",
    "def model_forecast(model, series, window_size):\n",
    "    ds = tf.data.Dataset.from_tensor_slices(series)\n",
    "    ds = ds.window(window_size, shift=1, drop_remainder=True)\n",
    "    ds = ds.flat_map(lambda w: w.batch(window_size))\n",
    "    ds = ds.batch(32).prefetch(1)\n",
    "    forecast = model.predict(ds)\n",
    "    return forecast\n",
    "\n",
    "with open(f'../final province csvs/{provinceChoice}_province.csv') as csvfile:\n",
    "  reader = csv.reader(csvfile, delimiter=',')\n",
    "  next(reader)\n",
    "  steps = 0\n",
    "  for row in reader:\n",
    "    cases.append(float(row[-1]))\n",
    "    time_step.append(steps)\n",
    "    steps+=1\n",
    "\n",
    "for i in range(days_in_future):\n",
    "    time_step.append(time_step[-1] + 1)\n",
    "\n",
    "for i in range(days_in_future):\n",
    "    cases.append(0)\n",
    "\n",
    "series = np.array(cases)\n",
    "time = np.array(time_step)\n",
    "\n",
    "rnn_forecast = model_forecast(model, series[..., np.newaxis], window_size)\n",
    "rnn_forecast = rnn_forecast[split_time - window_size:-1, -1, 0]\n",
    "\n",
    "prediction = math.ceil(rnn_forecast[-1])\n",
    "\n",
    "if prediction == 1:\n",
    "    print(math.ceil(rnn_forecast[-1]), \"case is predicted for \" + str(days_in_future) + f\" days in future in the {provinceChoice} Province\")\n",
    "else:\n",
    "    print(math.ceil(rnn_forecast[-1]), \"cases are predicted for \" + str(days_in_future) + f\" days in future in the {provinceChoice} Province\")"
   ]
  }
 ],
 "metadata": {
  "kernelspec": {
   "display_name": "Python 3",
   "language": "python",
   "name": "python3"
  },
  "language_info": {
   "codemirror_mode": {
    "name": "ipython",
    "version": 3
   },
   "file_extension": ".py",
   "mimetype": "text/x-python",
   "name": "python",
   "nbconvert_exporter": "python",
   "pygments_lexer": "ipython3",
   "version": "3.7.4"
  }
 },
 "nbformat": 4,
 "nbformat_minor": 4
}
